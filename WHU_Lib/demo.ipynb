{
 "cells": [
  {
   "cell_type": "code",
   "execution_count": 4,
   "outputs": [],
   "source": [
    "import requests\n",
    "import re"
   ],
   "metadata": {
    "collapsed": false,
    "pycharm": {
     "name": "#%%\n"
    }
   }
  },
  {
   "cell_type": "code",
   "execution_count": 6,
   "outputs": [
    {
     "name": "stdout",
     "output_type": "stream",
     "text": [
      "<input id =\"book\" type=\"hidden\" value=''/>\n",
      "<input id =\"user\" type=\"hidden\" value='{\"id\":195129,\"enabled\":true,\"name\":\"张睿萱\",\"username\":\"2020302111129\",\"username2\":null,\"status\":\"NORMAL\",\"isAdmin\":false,\"superviseAway\":false,\"lastLogin\":null,\"lastIn\":\"17:43\",\"lastOut\":\"22:37\",\"checkedIn\":false,\"reservationStatus\":null,\"violationCount\":7,\"lastInBuildingId\":1,\"lastInBuildingName\":\"信息分馆\"}'/>\n"
     ]
    }
   ],
   "source": [
    "from WHU_Lib.Request import getBook\n",
    "\n",
    "print(getBook())"
   ],
   "metadata": {
    "collapsed": false,
    "pycharm": {
     "name": "#%%\n"
    }
   }
  },
  {
   "cell_type": "code",
   "execution_count": null,
   "outputs": [],
   "source": [],
   "metadata": {
    "collapsed": false,
    "pycharm": {
     "name": "#%%\n"
    }
   }
  }
 ],
 "metadata": {
  "kernelspec": {
   "display_name": "Python 3",
   "language": "python",
   "name": "python3"
  },
  "language_info": {
   "codemirror_mode": {
    "name": "ipython",
    "version": 2
   },
   "file_extension": ".py",
   "mimetype": "text/x-python",
   "name": "python",
   "nbconvert_exporter": "python",
   "pygments_lexer": "ipython2",
   "version": "2.7.6"
  }
 },
 "nbformat": 4,
 "nbformat_minor": 0
}